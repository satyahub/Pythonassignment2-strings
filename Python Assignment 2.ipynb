{
 "cells": [
  {
   "cell_type": "code",
   "execution_count": 2,
   "id": "4405872a",
   "metadata": {},
   "outputs": [
    {
     "name": "stdout",
     "output_type": "stream",
     "text": [
      "*\n",
      "**\n",
      "***\n",
      "****\n",
      "*****\n",
      "****\n",
      "***\n",
      "**\n",
      "*\n",
      "\n"
     ]
    }
   ],
   "source": [
    "# print the pattern using nested loop in python\n",
    "n = 5\n",
    "for i in range(5):\n",
    "    for j in range(i+1):\n",
    "        print(\"*\", end  = \"\")\n",
    "    print(\"\")\n",
    "    \n",
    "for i in range(5,0,-1):\n",
    "    for j in range(i-1):\n",
    "        print(\"*\",end = \"\")\n",
    "    print(\"\")\n",
    "        "
   ]
  },
  {
   "cell_type": "code",
   "execution_count": 5,
   "id": "f6c03af8",
   "metadata": {},
   "outputs": [
    {
     "name": "stdout",
     "output_type": "stream",
     "text": [
      "Please provide a input word to reverse :ineuron\n",
      "The reversed word is: norueni\n"
     ]
    }
   ],
   "source": [
    "#2. Program to reverse a word after accepting the input from the user\n",
    "a = input(\"Please provide a input word to reverse :\")\n",
    "rev_word = a[::-1]\n",
    "print(\"The reversed word is:\", rev_word)"
   ]
  },
  {
   "cell_type": "code",
   "execution_count": null,
   "id": "a0264125",
   "metadata": {},
   "outputs": [],
   "source": []
  }
 ],
 "metadata": {
  "kernelspec": {
   "display_name": "Python 3",
   "language": "python",
   "name": "python3"
  },
  "language_info": {
   "codemirror_mode": {
    "name": "ipython",
    "version": 3
   },
   "file_extension": ".py",
   "mimetype": "text/x-python",
   "name": "python",
   "nbconvert_exporter": "python",
   "pygments_lexer": "ipython3",
   "version": "3.8.8"
  }
 },
 "nbformat": 4,
 "nbformat_minor": 5
}
